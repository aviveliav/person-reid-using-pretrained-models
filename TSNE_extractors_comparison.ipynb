{
 "cells": [
  {
   "cell_type": "markdown",
   "metadata": {
    "id": "XpnIF-_BjkeX"
   },
   "source": [
    "# Setup"
   ]
  },
  {
   "cell_type": "code",
   "execution_count": null,
   "metadata": {
    "colab": {
     "base_uri": "https://localhost:8080/"
    },
    "executionInfo": {
     "elapsed": 23278,
     "status": "ok",
     "timestamp": 1758615207679,
     "user": {
      "displayName": "Aviv Eliav",
      "userId": "06764978565719990161"
     },
     "user_tz": -180
    },
    "id": "6PnX7P4GlBAG",
    "outputId": "0a42577d-489e-405e-df40-973321fd3a67"
   },
   "outputs": [
    {
     "name": "stdout",
     "output_type": "stream",
     "text": [
      "  Running command git clone --filter=blob:none --quiet https://github.com/openai/CLIP.git /tmp/pip-req-build-r0qye9l9\n"
     ]
    }
   ],
   "source": [
    "# Install YOLO & CLIP\n",
    "!pip install ultralytics > /dev/null\n",
    "!pip install git+https://github.com/openai/CLIP.git > /dev/null"
   ]
  },
  {
   "cell_type": "code",
   "execution_count": null,
   "metadata": {
    "colab": {
     "base_uri": "https://localhost:8080/"
    },
    "executionInfo": {
     "elapsed": 17067,
     "status": "ok",
     "timestamp": 1758615227575,
     "user": {
      "displayName": "Aviv Eliav",
      "userId": "06764978565719990161"
     },
     "user_tz": -180
    },
    "id": "kPu1TUgnjl72",
    "outputId": "5158a2a4-d46f-4e67-d094-bbbc42a74e41"
   },
   "outputs": [
    {
     "name": "stdout",
     "output_type": "stream",
     "text": [
      "Device: cuda\n",
      "Available extractors: ['resnet50', 'resnext50_32x4d', 'densenet121', 'efficientnet_b0', 'dinov2_vits', 'maskrcnn', 'yolo', 'clip']\n"
     ]
    }
   ],
   "source": [
    "import os\n",
    "import torch\n",
    "import numpy as np\n",
    "import matplotlib.pyplot as plt\n",
    "from sklearn.manifold import TSNE\n",
    "from sklearn.preprocessing import LabelEncoder\n",
    "from torchvision.io import read_image\n",
    "\n",
    "from pretrained_models_features_extractors import make_extractor, _EXTRACTOR_REGISTRY\n",
    "\n",
    "device = torch.device(\"cuda\" if torch.cuda.is_available() else \"cpu\")\n",
    "print(\"Device:\", device)\n",
    "print(\"Available extractors:\", list(_EXTRACTOR_REGISTRY.keys()))"
   ]
  },
  {
   "cell_type": "markdown",
   "metadata": {
    "id": "4Uas5VEOn76P"
   },
   "source": [
    "TO BE USED EVERYTIME THE .py FILES CHANGES IN RUNTIME"
   ]
  },
  {
   "cell_type": "code",
   "execution_count": null,
   "metadata": {
    "colab": {
     "base_uri": "https://localhost:8080/"
    },
    "executionInfo": {
     "elapsed": 13,
     "status": "ok",
     "timestamp": 1758615239374,
     "user": {
      "displayName": "Aviv Eliav",
      "userId": "06764978565719990161"
     },
     "user_tz": -180
    },
    "id": "wC8WnQfan8cu",
    "outputId": "359db15b-e87a-40bb-d4ed-84971cb9e8e3"
   },
   "outputs": [
    {
     "name": "stdout",
     "output_type": "stream",
     "text": [
      "Reloaded: pretrained_models_features_extractors\n"
     ]
    }
   ],
   "source": [
    "# Hot-reload modules and rebind the imported names\n",
    "import importlib\n",
    "\n",
    "import pretrained_models_features_extractors as pmfe\n",
    "pmfe = importlib.reload(pmfe)\n",
    "from pretrained_models_features_extractors import *\n",
    "\n",
    "print(\"Reloaded:\", pmfe.__name__)"
   ]
  },
  {
   "cell_type": "markdown",
   "metadata": {},
   "source": [
    "Dataset download"
   ]
  },
  {
   "cell_type": "code",
   "execution_count": null,
   "metadata": {
    "colab": {
     "base_uri": "https://localhost:8080/"
    },
    "executionInfo": {
     "elapsed": 13344,
     "status": "ok",
     "timestamp": 1758615254953,
     "user": {
      "displayName": "Aviv Eliav",
      "userId": "06764978565719990161"
     },
     "user_tz": -180
    },
    "id": "H1PKE4qQj4nh",
    "outputId": "5be68ccb-3329-4d31-c79e-996fa391bb61"
   },
   "outputs": [
    {
     "name": "stdout",
     "output_type": "stream",
     "text": [
      "Cloning into 'CUHK03_dataset'...\n",
      "remote: Enumerating objects: 33345, done.\u001b[K\n",
      "remote: Total 33345 (delta 0), reused 0 (delta 0), pack-reused 33345 (from 1)\u001b[K\n",
      "Receiving objects: 100% (33345/33345), 336.68 MiB | 36.60 MiB/s, done.\n",
      "Resolving deltas: 100% (18/18), done.\n",
      "Updating files: 100% (35659/35659), done.\n"
     ]
    }
   ],
   "source": [
    "# CUHK03 dataset download\n",
    "!git clone https://github.com/manideep2510/CUHK03_dataset.git"
   ]
  },
  {
   "cell_type": "markdown",
   "metadata": {
    "id": "1_Jn8gw1juaZ"
   },
   "source": [
    " Load validation dataset (images)"
   ]
  },
  {
   "cell_type": "code",
   "execution_count": null,
   "metadata": {
    "colab": {
     "base_uri": "https://localhost:8080/"
    },
    "executionInfo": {
     "elapsed": 318,
     "status": "ok",
     "timestamp": 1758615257393,
     "user": {
      "displayName": "Aviv Eliav",
      "userId": "06764978565719990161"
     },
     "user_tz": -180
    },
    "id": "kkuKfPH0jusV",
    "outputId": "e530cc59-8817-48a6-d82c-e069d10d6d3b"
   },
   "outputs": [
    {
     "name": "stdout",
     "output_type": "stream",
     "text": [
      "Selected person IDs: ['0000', '0001', '0002', '0003', '0004', '0005', '0006', '0007', '0008', '0009']\n",
      "Final tensor shape: torch.Size([50, 3, 160, 60])\n",
      "Label distribution: {'0000': 5, '0001': 5, '0002': 5, '0003': 5, '0004': 5, '0005': 5, '0006': 5, '0007': 5, '0008': 5, '0009': 5}\n"
     ]
    }
   ],
   "source": [
    "CUHK03_DATASET = \"./CUHK03_dataset/detected/\"\n",
    "CUHK03_VAL_DIR = CUHK03_DATASET + \"/val_resized\"\n",
    "\n",
    "# scan all filenames to get person IDs\n",
    "all_files = [f for f in os.listdir(CUHK03_VAL_DIR) if f.lower().endswith(\".jpg\")]\n",
    "all_pids = [f.split(\"_\")[0] for f in all_files]\n",
    "unique_pids = sorted(set(all_pids))[:10]  # pick first 10\n",
    "\n",
    "print(\"Selected person IDs:\", unique_pids)\n",
    "\n",
    "images, labels = [], []\n",
    "counts = {pid: 0 for pid in unique_pids}  # how many images per person\n",
    "\n",
    "for fname in sorted(all_files):\n",
    "    pid = fname.split(\"_\")[0]\n",
    "    if pid in unique_pids and counts[pid] < 5:\n",
    "        img = read_image(os.path.join(CUHK03_VAL_DIR, fname)).float() / 255.0\n",
    "        images.append(img.unsqueeze(0))\n",
    "        labels.append(pid)\n",
    "        counts[pid] += 1\n",
    "\n",
    "images = torch.cat(images, dim=0).to(device)\n",
    "labels = np.array(labels)\n",
    "\n",
    "print(\"Final tensor shape:\", images.shape)\n",
    "print(\"Label distribution:\", {pid: list(labels).count(pid) for pid in unique_pids})"
   ]
  },
  {
   "cell_type": "markdown",
   "metadata": {
    "id": "kmHt7J19kQoQ"
   },
   "source": [
    "# t-SNE"
   ]
  },
  {
   "cell_type": "code",
   "execution_count": null,
   "metadata": {
    "id": "IRffnT2ekReL"
   },
   "outputs": [],
   "source": [
    "def extract_features_in_batches(extractor, images, batch_size=8, device=\"cuda\"):\n",
    "    feats = []\n",
    "    extractor = extractor.to(device).eval()\n",
    "    with torch.no_grad():\n",
    "        for i in range(0, len(images), batch_size):\n",
    "            batch = images[i:i+batch_size].to(device)\n",
    "            out = extractor(batch).cpu()  # keep GPU clean\n",
    "            feats.append(out)\n",
    "            del batch, out\n",
    "            torch.cuda.empty_cache()\n",
    "    return torch.cat(feats, dim=0).numpy()\n",
    "\n",
    "\n",
    "def tsne_for_extractors(extractor_names, images, labels, device, ncols=3, out_dir=\"outputs\", out_file=\"tsne_extractors.png\"):\n",
    "    le = LabelEncoder()\n",
    "    label_ids = le.fit_transform(labels)\n",
    "\n",
    "    n_extractors = len(extractor_names)\n",
    "    nrows = int(np.ceil(n_extractors / ncols))\n",
    "\n",
    "    fig, axes = plt.subplots(nrows, ncols, figsize=(5*ncols, 5*nrows))\n",
    "    axes = axes.flatten()\n",
    "\n",
    "    for i, extractor_name in enumerate(extractor_names):\n",
    "        print(f\"Extracting features with {extractor_name}...\")\n",
    "        extractor = make_extractor(extractor_name, device)\n",
    "\n",
    "        feats = extract_features_in_batches(extractor, images,\n",
    "                                            batch_size=8,\n",
    "                                            device=device)\n",
    "\n",
    "        tsne = TSNE(n_components=2, perplexity=30, init=\"pca\", random_state=42)\n",
    "        reduced = tsne.fit_transform(feats)\n",
    "\n",
    "        axes[i].scatter(\n",
    "            reduced[:,0], reduced[:,1],\n",
    "            c=label_ids, cmap=\"tab10\", s=15\n",
    "        )\n",
    "        axes[i].set_title(extractor_name, fontsize=12)\n",
    "        axes[i].set_xticks([]); axes[i].set_yticks([])\n",
    "\n",
    "    # remove unused subplots\n",
    "    for j in range(i+1, len(axes)):\n",
    "        axes[j].axis(\"off\")\n",
    "\n",
    "    fig.suptitle(\"t-SNE of CUHK03 (first 5 persons) across extractors\", fontsize=16)\n",
    "    plt.tight_layout()\n",
    "\n",
    "    # --- Save to file ---\n",
    "    os.makedirs(out_dir, exist_ok=True)\n",
    "    out_path = os.path.join(out_dir, out_file)\n",
    "    fig.savefig(out_path, dpi=150)\n",
    "    print(f\"Saved t-SNE plot to: {out_path}\")\n",
    "\n",
    "    plt.show()\n"
   ]
  },
  {
   "cell_type": "markdown",
   "metadata": {
    "id": "eq4LkY6akUyi"
   },
   "source": [
    "Try all extractors"
   ]
  },
  {
   "cell_type": "code",
   "execution_count": null,
   "metadata": {
    "colab": {
     "base_uri": "https://localhost:8080/",
     "height": 1000,
     "referenced_widgets": [
      "d86d03c5c8bd42b98ce52fcef7131510",
      "9894c8aa90a345b2920c4a1c9c5e39c4",
      "a39473705ff441348faa22565d197368",
      "25e45ce364814002a69ac2b6489d5ef1",
      "c606579324ed47b4aa21d1a609e36695",
      "9fa72ecc30c248c7ac286c16f392e772",
      "82adf524612343de9f6f284ecf910b7a",
      "fbb8e4901b704e9bb5b4e9a6db72ac40",
      "b8693150e2c04dce88ced53df5676c1e",
      "7738b0ebd0824e6595008e7b6fe45b90",
      "596c67d596764736a0a56d2566f8b1eb"
     ]
    },
    "executionInfo": {
     "elapsed": 35544,
     "status": "ok",
     "timestamp": 1758615319275,
     "user": {
      "displayName": "Aviv Eliav",
      "userId": "06764978565719990161"
     },
     "user_tz": -180
    },
    "id": "HgHTS_hlkVO6",
    "outputId": "ea08cc8d-f912-4ad9-e574-4d9514664894"
   },
   "outputs": [
    {
     "name": "stdout",
     "output_type": "stream",
     "text": [
      "Extractors:  ['resnet50', 'resnext50_32x4d', 'densenet121', 'efficientnet_b0', 'dinov2_vits', 'maskrcnn', 'yolo', 'clip']\n",
      "Extracting features with resnet50...\n",
      "Downloading: \"https://download.pytorch.org/models/resnet50-11ad3fa6.pth\" to /root/.cache/torch/hub/checkpoints/resnet50-11ad3fa6.pth\n"
     ]
    },
    {
     "name": "stderr",
     "output_type": "stream",
     "text": [
      "100%|██████████| 97.8M/97.8M [00:00<00:00, 195MB/s]\n"
     ]
    },
    {
     "name": "stdout",
     "output_type": "stream",
     "text": [
      "Extracting features with resnext50_32x4d...\n",
      "Downloading: \"https://download.pytorch.org/models/resnext50_32x4d-1a0047aa.pth\" to /root/.cache/torch/hub/checkpoints/resnext50_32x4d-1a0047aa.pth\n"
     ]
    },
    {
     "name": "stderr",
     "output_type": "stream",
     "text": [
      "100%|██████████| 95.8M/95.8M [00:00<00:00, 167MB/s]\n"
     ]
    },
    {
     "name": "stdout",
     "output_type": "stream",
     "text": [
      "Extracting features with densenet121...\n",
      "Downloading: \"https://download.pytorch.org/models/densenet121-a639ec97.pth\" to /root/.cache/torch/hub/checkpoints/densenet121-a639ec97.pth\n"
     ]
    },
    {
     "name": "stderr",
     "output_type": "stream",
     "text": [
      "100%|██████████| 30.8M/30.8M [00:00<00:00, 174MB/s]\n"
     ]
    },
    {
     "name": "stdout",
     "output_type": "stream",
     "text": [
      "Extracting features with efficientnet_b0...\n",
      "Downloading: \"https://download.pytorch.org/models/efficientnet_b0_rwightman-7f5810bc.pth\" to /root/.cache/torch/hub/checkpoints/efficientnet_b0_rwightman-7f5810bc.pth\n"
     ]
    },
    {
     "name": "stderr",
     "output_type": "stream",
     "text": [
      "100%|██████████| 20.5M/20.5M [00:00<00:00, 162MB/s]\n"
     ]
    },
    {
     "name": "stdout",
     "output_type": "stream",
     "text": [
      "Extracting features with dinov2_vits...\n"
     ]
    },
    {
     "name": "stderr",
     "output_type": "stream",
     "text": [
      "/usr/local/lib/python3.12/dist-packages/huggingface_hub/utils/_auth.py:94: UserWarning: \n",
      "The secret `HF_TOKEN` does not exist in your Colab secrets.\n",
      "To authenticate with the Hugging Face Hub, create a token in your settings tab (https://huggingface.co/settings/tokens), set it as secret in your Google Colab and restart your session.\n",
      "You will be able to reuse this secret in all of your notebooks.\n",
      "Please note that authentication is recommended but still optional to access public models or datasets.\n",
      "  warnings.warn(\n"
     ]
    },
    {
     "data": {
      "application/vnd.jupyter.widget-view+json": {
       "model_id": "d86d03c5c8bd42b98ce52fcef7131510",
       "version_major": 2,
       "version_minor": 0
      },
      "text/plain": [
       "model.safetensors:   0%|          | 0.00/88.2M [00:00<?, ?B/s]"
      ]
     },
     "metadata": {},
     "output_type": "display_data"
    },
    {
     "name": "stdout",
     "output_type": "stream",
     "text": [
      "Extracting features with maskrcnn...\n"
     ]
    },
    {
     "name": "stderr",
     "output_type": "stream",
     "text": [
      "/usr/local/lib/python3.12/dist-packages/torchvision/models/_utils.py:208: UserWarning: The parameter 'pretrained' is deprecated since 0.13 and may be removed in the future, please use 'weights' instead.\n",
      "  warnings.warn(\n",
      "/usr/local/lib/python3.12/dist-packages/torchvision/models/_utils.py:223: UserWarning: Arguments other than a weight enum or `None` for 'weights' are deprecated since 0.13 and may be removed in the future. The current behavior is equivalent to passing `weights=MaskRCNN_ResNet50_FPN_V2_Weights.COCO_V1`. You can also use `weights=MaskRCNN_ResNet50_FPN_V2_Weights.DEFAULT` to get the most up-to-date weights.\n",
      "  warnings.warn(msg)\n"
     ]
    },
    {
     "name": "stdout",
     "output_type": "stream",
     "text": [
      "Downloading: \"https://download.pytorch.org/models/maskrcnn_resnet50_fpn_v2_coco-73cbd019.pth\" to /root/.cache/torch/hub/checkpoints/maskrcnn_resnet50_fpn_v2_coco-73cbd019.pth\n"
     ]
    },
    {
     "name": "stderr",
     "output_type": "stream",
     "text": [
      "100%|██████████| 177M/177M [00:01<00:00, 175MB/s]\n"
     ]
    },
    {
     "name": "stdout",
     "output_type": "stream",
     "text": [
      "Extracting features with yolo...\n",
      "Creating new Ultralytics Settings v0.0.6 file ✅ \n",
      "View Ultralytics Settings with 'yolo settings' or at '/root/.config/Ultralytics/settings.json'\n",
      "Update Settings with 'yolo settings key=value', i.e. 'yolo settings runs_dir=path/to/dir'. For help see https://docs.ultralytics.com/quickstart/#ultralytics-settings.\n",
      "\u001b[KDownloading https://github.com/ultralytics/assets/releases/download/v8.3.0/yolov8n.pt to 'yolov8n.pt': 100% ━━━━━━━━━━━━ 6.2MB 102.9MB/s 0.1s\n",
      "Extracting features with clip...\n"
     ]
    },
    {
     "name": "stderr",
     "output_type": "stream",
     "text": [
      "100%|████████████████████████████████████████| 338M/338M [00:02<00:00, 154MiB/s]\n"
     ]
    },
    {
     "name": "stdout",
     "output_type": "stream",
     "text": [
      "Saved t-SNE plot to: plots/tsne_extractors.png\n"
     ]
    },
    {
     "data": {
      "image/png": "[encoded data removed]",
      "text/plain": [
       "<Figure size 1500x1500 with 9 Axes>"
      ]
     },
     "metadata": {},
     "output_type": "display_data"
    }
   ],
   "source": [
    "extractor_names = list(_EXTRACTOR_REGISTRY.keys())\n",
    "print(\"Extractors: \", extractor_names)\n",
    "tsne_for_extractors(extractor_names, images, labels, device, ncols=3)"
   ]
  }
 ],
 "metadata": {
  "accelerator": "GPU",
  "colab": {
   "gpuType": "T4",
   "provenance": []
  },
  "kernelspec": {
   "display_name": "Python 3",
   "name": "python3"
  },
  "language_info": {
   "name": "python"
  },
  "widgets": {
   "application/vnd.jupyter.widget-state+json": {
    "25e45ce364814002a69ac2b6489d5ef1": {
     "model_module": "@jupyter-widgets/controls",
     "model_module_version": "1.5.0",
     "model_name": "HTMLModel",
     "state": {
      "_dom_classes": [],
      "_model_module": "@jupyter-widgets/controls",
      "_model_module_version": "1.5.0",
      "_model_name": "HTMLModel",
      "_view_count": null,
      "_view_module": "@jupyter-widgets/controls",
      "_view_module_version": "1.5.0",
      "_view_name": "HTMLView",
      "description": "",
      "description_tooltip": null,
      "layout": "IPY_MODEL_7738b0ebd0824e6595008e7b6fe45b90",
      "placeholder": "​",
      "style": "IPY_MODEL_596c67d596764736a0a56d2566f8b1eb",
      "value": " 88.2M/88.2M [00:00&lt;00:00, 262MB/s]"
     }
    },
    "596c67d596764736a0a56d2566f8b1eb": {
     "model_module": "@jupyter-widgets/controls",
     "model_module_version": "1.5.0",
     "model_name": "DescriptionStyleModel",
     "state": {
      "_model_module": "@jupyter-widgets/controls",
      "_model_module_version": "1.5.0",
      "_model_name": "DescriptionStyleModel",
      "_view_count": null,
      "_view_module": "@jupyter-widgets/base",
      "_view_module_version": "1.2.0",
      "_view_name": "StyleView",
      "description_width": ""
     }
    },
    "7738b0ebd0824e6595008e7b6fe45b90": {
     "model_module": "@jupyter-widgets/base",
     "model_module_version": "1.2.0",
     "model_name": "LayoutModel",
     "state": {
      "_model_module": "@jupyter-widgets/base",
      "_model_module_version": "1.2.0",
      "_model_name": "LayoutModel",
      "_view_count": null,
      "_view_module": "@jupyter-widgets/base",
      "_view_module_version": "1.2.0",
      "_view_name": "LayoutView",
      "align_content": null,
      "align_items": null,
      "align_self": null,
      "border": null,
      "bottom": null,
      "display": null,
      "flex": null,
      "flex_flow": null,
      "grid_area": null,
      "grid_auto_columns": null,
      "grid_auto_flow": null,
      "grid_auto_rows": null,
      "grid_column": null,
      "grid_gap": null,
      "grid_row": null,
      "grid_template_areas": null,
      "grid_template_columns": null,
      "grid_template_rows": null,
      "height": null,
      "justify_content": null,
      "justify_items": null,
      "left": null,
      "margin": null,
      "max_height": null,
      "max_width": null,
      "min_height": null,
      "min_width": null,
      "object_fit": null,
      "object_position": null,
      "order": null,
      "overflow": null,
      "overflow_x": null,
      "overflow_y": null,
      "padding": null,
      "right": null,
      "top": null,
      "visibility": null,
      "width": null
     }
    },
    "82adf524612343de9f6f284ecf910b7a": {
     "model_module": "@jupyter-widgets/controls",
     "model_module_version": "1.5.0",
     "model_name": "DescriptionStyleModel",
     "state": {
      "_model_module": "@jupyter-widgets/controls",
      "_model_module_version": "1.5.0",
      "_model_name": "DescriptionStyleModel",
      "_view_count": null,
      "_view_module": "@jupyter-widgets/base",
      "_view_module_version": "1.2.0",
      "_view_name": "StyleView",
      "description_width": ""
     }
    },
    "9894c8aa90a345b2920c4a1c9c5e39c4": {
     "model_module": "@jupyter-widgets/controls",
     "model_module_version": "1.5.0",
     "model_name": "HTMLModel",
     "state": {
      "_dom_classes": [],
      "_model_module": "@jupyter-widgets/controls",
      "_model_module_version": "1.5.0",
      "_model_name": "HTMLModel",
      "_view_count": null,
      "_view_module": "@jupyter-widgets/controls",
      "_view_module_version": "1.5.0",
      "_view_name": "HTMLView",
      "description": "",
      "description_tooltip": null,
      "layout": "IPY_MODEL_9fa72ecc30c248c7ac286c16f392e772",
      "placeholder": "​",
      "style": "IPY_MODEL_82adf524612343de9f6f284ecf910b7a",
      "value": "model.safetensors: 100%"
     }
    },
    "9fa72ecc30c248c7ac286c16f392e772": {
     "model_module": "@jupyter-widgets/base",
     "model_module_version": "1.2.0",
     "model_name": "LayoutModel",
     "state": {
      "_model_module": "@jupyter-widgets/base",
      "_model_module_version": "1.2.0",
      "_model_name": "LayoutModel",
      "_view_count": null,
      "_view_module": "@jupyter-widgets/base",
      "_view_module_version": "1.2.0",
      "_view_name": "LayoutView",
      "align_content": null,
      "align_items": null,
      "align_self": null,
      "border": null,
      "bottom": null,
      "display": null,
      "flex": null,
      "flex_flow": null,
      "grid_area": null,
      "grid_auto_columns": null,
      "grid_auto_flow": null,
      "grid_auto_rows": null,
      "grid_column": null,
      "grid_gap": null,
      "grid_row": null,
      "grid_template_areas": null,
      "grid_template_columns": null,
      "grid_template_rows": null,
      "height": null,
      "justify_content": null,
      "justify_items": null,
      "left": null,
      "margin": null,
      "max_height": null,
      "max_width": null,
      "min_height": null,
      "min_width": null,
      "object_fit": null,
      "object_position": null,
      "order": null,
      "overflow": null,
      "overflow_x": null,
      "overflow_y": null,
      "padding": null,
      "right": null,
      "top": null,
      "visibility": null,
      "width": null
     }
    },
    "a39473705ff441348faa22565d197368": {
     "model_module": "@jupyter-widgets/controls",
     "model_module_version": "1.5.0",
     "model_name": "FloatProgressModel",
     "state": {
      "_dom_classes": [],
      "_model_module": "@jupyter-widgets/controls",
      "_model_module_version": "1.5.0",
      "_model_name": "FloatProgressModel",
      "_view_count": null,
      "_view_module": "@jupyter-widgets/controls",
      "_view_module_version": "1.5.0",
      "_view_name": "ProgressView",
      "bar_style": "success",
      "description": "",
      "description_tooltip": null,
      "layout": "IPY_MODEL_fbb8e4901b704e9bb5b4e9a6db72ac40",
      "max": 88240510,
      "min": 0,
      "orientation": "horizontal",
      "style": "IPY_MODEL_b8693150e2c04dce88ced53df5676c1e",
      "value": 88240510
     }
    },
    "b8693150e2c04dce88ced53df5676c1e": {
     "model_module": "@jupyter-widgets/controls",
     "model_module_version": "1.5.0",
     "model_name": "ProgressStyleModel",
     "state": {
      "_model_module": "@jupyter-widgets/controls",
      "_model_module_version": "1.5.0",
      "_model_name": "ProgressStyleModel",
      "_view_count": null,
      "_view_module": "@jupyter-widgets/base",
      "_view_module_version": "1.2.0",
      "_view_name": "StyleView",
      "bar_color": null,
      "description_width": ""
     }
    },
    "c606579324ed47b4aa21d1a609e36695": {
     "model_module": "@jupyter-widgets/base",
     "model_module_version": "1.2.0",
     "model_name": "LayoutModel",
     "state": {
      "_model_module": "@jupyter-widgets/base",
      "_model_module_version": "1.2.0",
      "_model_name": "LayoutModel",
      "_view_count": null,
      "_view_module": "@jupyter-widgets/base",
      "_view_module_version": "1.2.0",
      "_view_name": "LayoutView",
      "align_content": null,
      "align_items": null,
      "align_self": null,
      "border": null,
      "bottom": null,
      "display": null,
      "flex": null,
      "flex_flow": null,
      "grid_area": null,
      "grid_auto_columns": null,
      "grid_auto_flow": null,
      "grid_auto_rows": null,
      "grid_column": null,
      "grid_gap": null,
      "grid_row": null,
      "grid_template_areas": null,
      "grid_template_columns": null,
      "grid_template_rows": null,
      "height": null,
      "justify_content": null,
      "justify_items": null,
      "left": null,
      "margin": null,
      "max_height": null,
      "max_width": null,
      "min_height": null,
      "min_width": null,
      "object_fit": null,
      "object_position": null,
      "order": null,
      "overflow": null,
      "overflow_x": null,
      "overflow_y": null,
      "padding": null,
      "right": null,
      "top": null,
      "visibility": null,
      "width": null
     }
    },
    "d86d03c5c8bd42b98ce52fcef7131510": {
     "model_module": "@jupyter-widgets/controls",
     "model_module_version": "1.5.0",
     "model_name": "HBoxModel",
     "state": {
      "_dom_classes": [],
      "_model_module": "@jupyter-widgets/controls",
      "_model_module_version": "1.5.0",
      "_model_name": "HBoxModel",
      "_view_count": null,
      "_view_module": "@jupyter-widgets/controls",
      "_view_module_version": "1.5.0",
      "_view_name": "HBoxView",
      "box_style": "",
      "children": [
       "IPY_MODEL_9894c8aa90a345b2920c4a1c9c5e39c4",
       "IPY_MODEL_a39473705ff441348faa22565d197368",
       "IPY_MODEL_25e45ce364814002a69ac2b6489d5ef1"
      ],
      "layout": "IPY_MODEL_c606579324ed47b4aa21d1a609e36695"
     }
    },
    "fbb8e4901b704e9bb5b4e9a6db72ac40": {
     "model_module": "@jupyter-widgets/base",
     "model_module_version": "1.2.0",
     "model_name": "LayoutModel",
     "state": {
      "_model_module": "@jupyter-widgets/base",
      "_model_module_version": "1.2.0",
      "_model_name": "LayoutModel",
      "_view_count": null,
      "_view_module": "@jupyter-widgets/base",
      "_view_module_version": "1.2.0",
      "_view_name": "LayoutView",
      "align_content": null,
      "align_items": null,
      "align_self": null,
      "border": null,
      "bottom": null,
      "display": null,
      "flex": null,
      "flex_flow": null,
      "grid_area": null,
      "grid_auto_columns": null,
      "grid_auto_flow": null,
      "grid_auto_rows": null,
      "grid_column": null,
      "grid_gap": null,
      "grid_row": null,
      "grid_template_areas": null,
      "grid_template_columns": null,
      "grid_template_rows": null,
      "height": null,
      "justify_content": null,
      "justify_items": null,
      "left": null,
      "margin": null,
      "max_height": null,
      "max_width": null,
      "min_height": null,
      "min_width": null,
      "object_fit": null,
      "object_position": null,
      "order": null,
      "overflow": null,
      "overflow_x": null,
      "overflow_y": null,
      "padding": null,
      "right": null,
      "top": null,
      "visibility": null,
      "width": null
     }
    }
   }
  }
 },
 "nbformat": 4,
 "nbformat_minor": 0
}
